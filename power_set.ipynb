{
  "nbformat": 4,
  "nbformat_minor": 0,
  "metadata": {
    "colab": {
      "name": "power_set.ipynb",
      "provenance": [],
      "authorship_tag": "ABX9TyPxB9uH9fx7RBuChwvWunH+",
      "include_colab_link": true
    },
    "kernelspec": {
      "name": "python3",
      "display_name": "Python 3"
    }
  },
  "cells": [
    {
      "cell_type": "markdown",
      "metadata": {
        "id": "view-in-github",
        "colab_type": "text"
      },
      "source": [
        "<a href=\"https://colab.research.google.com/github/pradyojha/MachineLearning/blob/master/power_set.ipynb\" target=\"_parent\"><img src=\"https://colab.research.google.com/assets/colab-badge.svg\" alt=\"Open In Colab\"/></a>"
      ]
    },
    {
      "cell_type": "code",
      "metadata": {
        "id": "tYGpUZVvPtST",
        "colab_type": "code",
        "colab": {
          "base_uri": "https://localhost:8080/",
          "height": 51
        },
        "outputId": "a8320b9a-e0c0-4200-b72a-45ce925ea8c1"
      },
      "source": [
        "def power_set(flowers):\n",
        "    if len(flowers <= 1):\n",
        "        \n",
        "    fragrances_set = set()    \n",
        "    fragrances_set.add(\"\")\n",
        "\n",
        "    for flower_element in flowers:   \n",
        "        new_fragrances_set = fragrances_set.copy()    \n",
        "        temp_fragrance_set = set()\n",
        "        for fragrance_element in new_fragrances_set:            \n",
        "            temp_fragrance_set.add(fragrance_element.strip()+flower_element)            \n",
        "            temp_new_fragrances_set = new_fragrances_set.union(temp_fragrance_set)            \n",
        "            fragrances_set = temp_new_fragrances_set.copy()    \n",
        "    return fragrances_set\n",
        "\n",
        "\n",
        "#driver function\n",
        "flowers = []\n",
        "fragrances_set = power_set(flowers)\n",
        "print(\"length\",len(fragrances_set))\n",
        "print(\"result\",fragrances_set)\n",
        "\n"
      ],
      "execution_count": 6,
      "outputs": [
        {
          "output_type": "stream",
          "text": [
            "length 1\n",
            "result {''}\n"
          ],
          "name": "stdout"
        }
      ]
    }
  ]
}