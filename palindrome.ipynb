{
  "nbformat": 4,
  "nbformat_minor": 0,
  "metadata": {
    "colab": {
      "name": "palindrome.ipynb",
      "provenance": [],
      "authorship_tag": "ABX9TyP+D37VXS4JP+qT632CyfFq",
      "include_colab_link": true
    },
    "kernelspec": {
      "name": "python3",
      "display_name": "Python 3"
    }
  },
  "cells": [
    {
      "cell_type": "markdown",
      "metadata": {
        "id": "view-in-github",
        "colab_type": "text"
      },
      "source": [
        "<a href=\"https://colab.research.google.com/github/pradyojha/MachineLearning/blob/master/palindrome.ipynb\" target=\"_parent\"><img src=\"https://colab.research.google.com/assets/colab-badge.svg\" alt=\"Open In Colab\"/></a>"
      ]
    },
    {
      "cell_type": "code",
      "metadata": {
        "id": "tYGpUZVvPtST",
        "colab_type": "code",
        "colab": {
          "base_uri": "https://localhost:8080/",
          "height": 34
        },
        "outputId": "52a9a4f8-af1f-4078-930a-30e4036cb72d"
      },
      "source": [
        "def palindrome(word):\n",
        "    if len(word) <= 1:\n",
        "        return True\n",
        " \n",
        "    if not (word[0] == word[-1]):\n",
        "        return False   \n",
        "  \n",
        "    new_word = word[1:][:-1] \n",
        "    return palindrome(new_word)\n",
        "\n",
        "\n",
        "#driver function\n",
        "result = palindrome(\"racecar\")\n",
        "print(result)\n",
        "\n"
      ],
      "execution_count": 7,
      "outputs": [
        {
          "output_type": "stream",
          "text": [
            "True\n"
          ],
          "name": "stdout"
        }
      ]
    }
  ]
}