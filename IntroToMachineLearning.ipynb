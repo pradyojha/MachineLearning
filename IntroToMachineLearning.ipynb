{
  "nbformat": 4,
  "nbformat_minor": 0,
  "metadata": {
    "colab": {
      "name": "IntroToMachineLearning.ipynb",
      "provenance": [],
      "authorship_tag": "ABX9TyNdeEDpm99mF1ZgfSAIFi4m",
      "include_colab_link": true
    },
    "kernelspec": {
      "name": "python3",
      "display_name": "Python 3"
    }
  },
  "cells": [
    {
      "cell_type": "markdown",
      "metadata": {
        "id": "view-in-github",
        "colab_type": "text"
      },
      "source": [
        "<a href=\"https://colab.research.google.com/github/pradyojha/MachineLearning/blob/master/IntroToMachineLearning.ipynb\" target=\"_parent\"><img src=\"https://colab.research.google.com/assets/colab-badge.svg\" alt=\"Open In Colab\"/></a>"
      ]
    },
    {
      "cell_type": "code",
      "metadata": {
        "id": "HnnsH2r2Z8fd",
        "colab_type": "code",
        "colab": {}
      },
      "source": [
        "!pip install sklearn\n",
        "!pip install quandl\n",
        "!pip install pandas"
      ],
      "execution_count": 0,
      "outputs": []
    },
    {
      "cell_type": "code",
      "metadata": {
        "id": "eC54ifGkbyYJ",
        "colab_type": "code",
        "colab": {}
      },
      "source": [
        "import sklearn\n",
        "import pandas as pd\n",
        "import quandl\n",
        "import math\n",
        "import numpy\n",
        "\n",
        "from sklearn import preprocessing, cross_validation, svm\n",
        "from sklearn.linear_model import LinearRegression\n",
        "\n",
        "\n",
        "df = quandl.get('WIKI/GOOGL')\n",
        "df = df[['Adj. Open','Adj. High','Adj. Low','Adj. Close','Adj. Volume']]\n",
        "\n",
        "df['HL_PCT'] = (df['Adj. High'] - df['Adj. Close'])/ df['Adj. Close'] * 100.0\n",
        "df['PCT_Change'] = (df['Adj. Close'] - df['Adj. Open'])/ df['Adj. Open'] * 100.0\n",
        "\n",
        "#features\n",
        "df = df[['Adj. Close','HL_PCT','PCT_Change','Adj. Volume']]\n",
        "#label\n",
        "forecast_col = 'Adj. Close'\n",
        "\n",
        "#fill not available values with -99999\n",
        "df.fillna(-99999, inplace=True)\n",
        "\n",
        "forecast_out = int(math.ceil(0.01*len(df)))\n",
        "\n",
        "df['label'] = df[forecast_col].shift(-forecast_out);"
      ],
      "execution_count": 0,
      "outputs": []
    }
  ]
}